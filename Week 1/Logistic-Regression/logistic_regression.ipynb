{
 "cells": [
  {
   "cell_type": "markdown",
   "metadata": {},
   "source": [
    "### LOGISTIC REGRESSION\n",
    "In this assignment we try to find a relation between average weight of granules and total surface area to see if a material is viable as a catalyst"
   ]
  },
  {
   "cell_type": "code",
   "execution_count": 266,
   "metadata": {},
   "outputs": [],
   "source": [
    "# Importing libraries here\n",
    "import numpy as np\n",
    "import pandas as pd\n",
    "import matplotlib.pyplot as plt"
   ]
  },
  {
   "cell_type": "markdown",
   "metadata": {},
   "source": [
    "### Feature mapping\n",
    "Sometimes, we are given an inadequate number of features for which training the dataset becomes difficult.  \n",
    "Hence we create new features of by taking polynomial products of existing ones."
   ]
  },
  {
   "cell_type": "code",
   "execution_count": 267,
   "metadata": {},
   "outputs": [],
   "source": [
    "# Generates new features by taking products of various powers of the input features (x and y)\n",
    "# This expands the feature space with polynomial combinations (up to degree 4) of x and y\n",
    "\n",
    "### TODO 1\n",
    "def feature_map(points):\n",
    "    points = np.array(points)\n",
    "    x, y = points[:, 0], points[:, 1]\n",
    "    features=list()\n",
    "    n=1\n",
    "    while n<=4:\n",
    "        i=0\n",
    "        while i<=n:\n",
    "            features.append((x**i)*(y**(n-i)))\n",
    "            i+=1\n",
    "        n+=1\n",
    "    return np.column_stack(features)\n"
   ]
  },
  {
   "cell_type": "markdown",
   "metadata": {},
   "source": [
    "### Creating the class for Logistic Regression"
   ]
  },
  {
   "cell_type": "code",
   "execution_count": 268,
   "metadata": {},
   "outputs": [],
   "source": [
    "# Our class in which we define all functions. (This way our functions are contained)\n",
    "class LogisticRegression:\n",
    "\n",
    "    # Constructor (weights and bias are member variables)\n",
    "    # Can be accessed via self.weights and self.bias\n",
    "    def __init__(self) :\n",
    "        self.weights : np.ndarray\n",
    "        self.bias : float\n",
    "\n",
    "\n",
    "\n",
    "    # Sigmoid function\n",
    "    ### TODO 2\n",
    "    def sigmoid(self, z: np.ndarray) -> np.ndarray:\n",
    "        x=1.0+np.exp(-z)\n",
    "        y=1.0/x\n",
    "        return y\n",
    "    \n",
    "\n",
    "    # Returns probabilities of being true\n",
    "    ### TODO 3\n",
    "    def predict_probability(self, X: np.ndarray) -> np.ndarray:\n",
    "        z=np.dot(X,self.weights)+self.bias\n",
    "        w=self.sigmoid(z)\n",
    "        return w\n",
    "\n",
    "    # Returns true/false (based on the probabilities)\n",
    "    ### TODO 4\n",
    "    def predict(self, X: np.ndarray) -> np.ndarray:\n",
    "        z=self.predict_probability(X)\n",
    "        w=2*z\n",
    "        return np.floor(w)\n",
    "\n",
    "\n",
    "    \n",
    "    # Returns loss or cost, change in weights (dw), change in bias (db) with regularization\n",
    "    ### TODO 5 \n",
    "    def loss(self, X: np.ndarray, y: np.ndarray, lambda_reg: float = 0) -> tuple:\n",
    "        w=self.predict_probability(X)\n",
    "        i=0\n",
    "        while i<160:\n",
    "            if w[i]==1:\n",
    "                w[i]=0.99999\n",
    "            i+=1\n",
    "        temp=w-y\n",
    "        m=X.shape[0]\n",
    "        db=np.sum(temp)/m\n",
    "        dw=np.sum(temp@X)/m\n",
    "        loss=np.dot(y,np.log(w))+np.dot(1-y,np.log(1.0-w))\n",
    "        loss=-loss\n",
    "        # L2 Regularization\n",
    "        loss += (lambda_reg*(np.sum(self.weights**2)))/m ## Change this line\n",
    "        dw += (2*lambda_reg*self.weights)/m ## Change this line\n",
    "        return loss, dw, db\n",
    "    \n",
    "\n",
    "\n",
    "    # Adjusts the weights and bias to get the minimum loss\n",
    "    ### TODO 6\n",
    "    def fit(self, X: np.ndarray, y: np.ndarray, epochs: int = 500,\n",
    "            learning_rate: float = 0.01, threshold: float = 0.0001, \n",
    "            lambda_reg: float = 1) -> None:\n",
    "        self.bias=np.random.randint(0,5,1)\n",
    "        self.weights=np.random.randint(0,5,X.shape[1])\n",
    "        lr=learning_rate\n",
    "        it=self.loss(X,y,lambda_reg) #it stands for initial tuple\n",
    "        for i in range(epochs):\n",
    "            prevloss=it[0]\n",
    "            temp_w=self.weights-lr*it[1]\n",
    "            temp_b=self.bias-lr*it[2]\n",
    "            self.weights=temp_w\n",
    "            self.bias=temp_b\n",
    "            nt=self.loss(X,y,lambda_reg)\n",
    "            newloss=nt[0]\n",
    "            it=nt\n",
    "            if abs(newloss-prevloss)<=threshold:\n",
    "                break\n",
    "            i+=1\n",
    "        return None\n"
   ]
  },
  {
   "cell_type": "code",
   "execution_count": 269,
   "metadata": {},
   "outputs": [],
   "source": [
    "# Importing data\n",
    "df = pd.read_csv('logistic_data.csv')\n",
    "data = df.to_numpy()\n",
    "X = data[:, :2]\n",
    "y = data[:, 2]"
   ]
  },
  {
   "cell_type": "code",
   "execution_count": 270,
   "metadata": {},
   "outputs": [],
   "source": [
    "# Creating train-test split\n",
    "from sklearn.model_selection import train_test_split\n",
    "X_train, X_test, y_train, y_test = train_test_split(X, y, test_size=0.2, random_state=42)"
   ]
  },
  {
   "cell_type": "code",
   "execution_count": 271,
   "metadata": {},
   "outputs": [],
   "source": [
    "# z-score standardization\n",
    "### TODO 7\n",
    "def z_score(X: np.ndarray) -> tuple:\n",
    "    X = np.asarray(X, dtype=np.float64)\n",
    "    x_mean=np.mean(X,axis=0)\n",
    "    x_std=np.std(X,axis=0)\n",
    "    x=(X-x_mean)/x_std\n",
    "    return x, x_mean, x_std"
   ]
  },
  {
   "cell_type": "code",
   "execution_count": 272,
   "metadata": {},
   "outputs": [],
   "source": [
    "# Normalizing the data (we use the same constants to maintain consistency)\n",
    "X_train, x_mean, x_std = z_score(X_train)\n",
    "X_test = (X_test - x_mean) / x_std\n",
    "x_train = feature_map(X_train)\n",
    "x_test = feature_map(X_test)"
   ]
  },
  {
   "cell_type": "code",
   "execution_count": 273,
   "metadata": {},
   "outputs": [],
   "source": [
    "# Visualizing how the boundary curve looks like\n",
    "def plot_decision_boundary(X_original, y, model, resolution=500):\n",
    "    # Set up the grid for the decision boundary\n",
    "    x_min, x_max = X_original[:, 0].min() - 1, X_original[:, 0].max() + 1\n",
    "    y_min, y_max = X_original[:, 1].min() - 1, X_original[:, 1].max() + 1\n",
    "    xx, yy = np.meshgrid(np.linspace(x_min, x_max, resolution),\n",
    "                         np.linspace(y_min, y_max, resolution))\n",
    "    \n",
    "    # Flatten the grid points and map to expanded features\n",
    "    grid_original = np.c_[xx.ravel(), yy.ravel()]\n",
    "    grid_expanded = feature_map(grid_original)\n",
    "    \n",
    "    # Predict the grid values for decision boundary\n",
    "    Z = model.predict(grid_expanded)\n",
    "    Z = Z.reshape(xx.shape)\n",
    "    \n",
    "    # Plot the data points\n",
    "    true_points = X_original[y == 1]\n",
    "    false_points = X_original[y == 0]\n",
    "    plt.scatter(true_points[:, 0], true_points[:, 1], label=\"True\", c=\"blue\", marker=\"o\", s=20)\n",
    "    plt.scatter(false_points[:, 0], false_points[:, 1], label=\"False\", c=\"red\", marker=\"x\", s=20)\n",
    "\n",
    "    # Plot the decision boundary\n",
    "    plt.contour(xx, yy, Z, levels=[0.5], colors=\"black\", linewidths=2)\n",
    "    \n",
    "    # Labeling and title\n",
    "    plt.xlabel(\"Feature 1\")\n",
    "    plt.ylabel(\"Feature 2\")\n",
    "    plt.title(\"Decision Boundary and Data Points\")\n",
    "    plt.show()"
   ]
  },
  {
   "cell_type": "markdown",
   "metadata": {},
   "source": [
    "We plot the decision boundary that the model predicts. This can be used to check for overfitting.  \n",
    "If the boundary starts looking like an ameoba trying to fit every point, then it is a sign of overfitting."
   ]
  },
  {
   "cell_type": "code",
   "execution_count": 281,
   "metadata": {},
   "outputs": [
    {
     "name": "stdout",
     "output_type": "stream",
     "text": [
      "Your model has an accuracy of 85.0%\n"
     ]
    },
    {
     "data": {
      "image/png": "[encoded data removed]",
      "text/plain": [
       "<Figure size 640x480 with 1 Axes>"
      ]
     },
     "metadata": {},
     "output_type": "display_data"
    }
   ],
   "source": [
    "# Checking accuracy of test model\n",
    "model = LogisticRegression()\n",
    "model.fit(x_train, y_train, epochs=10000, learning_rate=0.1, threshold=0.001, lambda_reg=1)\n",
    "y_pred = model.predict(x_test)\n",
    "accuracy = np.mean(y_pred == y_test) * 100\n",
    "print(f\"Your model has an accuracy of {accuracy}%\")\n",
    "\n",
    "# Plotting the contour and checking for overfitting (try changing the degree in the feature_map function to 10 instead)\n",
    "plot_decision_boundary(((X - x_mean) / x_std), y, model)"
   ]
  }
 ],
 "metadata": {
  "kernelspec": {
   "display_name": "Python 3",
   "language": "python",
   "name": "python3"
  },
  "language_info": {
   "codemirror_mode": {
    "name": "ipython",
    "version": 3
   },
   "file_extension": ".py",
   "mimetype": "text/x-python",
   "name": "python",
   "nbconvert_exporter": "python",
   "pygments_lexer": "ipython3",
   "version": "3.13.0"
  }
 },
 "nbformat": 4,
 "nbformat_minor": 2
}
